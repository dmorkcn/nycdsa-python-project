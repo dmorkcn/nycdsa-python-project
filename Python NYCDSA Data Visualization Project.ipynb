{
 "cells": [
  {
   "cell_type": "markdown",
   "id": "a0ca5f61",
   "metadata": {},
   "source": [
    "# Import the modules\n"
   ]
  },
  {
   "cell_type": "code",
   "execution_count": null,
   "id": "64926b0d",
   "metadata": {},
   "outputs": [],
   "source": [
    "import numpy as np\n",
    "import pandas as pd\n",
    "import datetime as dt\n",
    "import matplotlib.pyplot as plt\n",
    "import re\n",
    "import time\n",
    "import spotipy\n",
    "import seaborn as sns\n",
    "plt.style.use('ggplot')\n",
    "%matplotlib inline\n",
    "import plotly\n",
    "import plotly.graph_objects as go\n",
    "import plotly.express as px\n",
    "# connected=True means it will download the latest version of plotly javascript library.\n",
    "plotly.offline.init_notebook_mode(connected=True)\n"
   ]
  },
  {
   "cell_type": "markdown",
   "id": "0be2a8e5",
   "metadata": {},
   "source": [
    "# Store the Spotify Daily Hits Chart Dataset 2017- 2021 as a Dataframe\n",
    "# --------------------------------------------------------------------------------------------------"
   ]
  },
  {
   "cell_type": "code",
   "execution_count": null,
   "id": "468064a2",
   "metadata": {},
   "outputs": [],
   "source": [
    "spot = pd.read_csv(r\"C:\\Users\\kellyc\\Projects - Coding and Data Science\\NYCDSA Python Data Analysis Project\\charts.csv\", encoding='iso-8859-1')"
   ]
  },
  {
   "cell_type": "markdown",
   "id": "dbf84535",
   "metadata": {},
   "source": [
    "\n",
    "# Exploring the Dataset\n",
    "# ------------------------------------"
   ]
  },
  {
   "cell_type": "code",
   "execution_count": null,
   "id": "93439707",
   "metadata": {},
   "outputs": [],
   "source": [
    "# Taking a look at the data\n",
    "spot.describe()"
   ]
  },
  {
   "cell_type": "code",
   "execution_count": null,
   "id": "be9dd5df",
   "metadata": {},
   "outputs": [],
   "source": [
    "def explore_data(dataframe):\n",
    "    print('-'*100)\n",
    "    print(f'The data set has {dataframe.shape[0]} rows for songs and {dataframe.shape[1]} columns for:')\n",
    "    for col in dataframe.columns.tolist():\n",
    "        print(col.capitalize())\n",
    "    print('-'*100)\n",
    "    return dataframe.dtypes"
   ]
  },
  {
   "cell_type": "code",
   "execution_count": null,
   "id": "a0cba53a",
   "metadata": {},
   "outputs": [],
   "source": [
    "explore_data(spot)"
   ]
  },
  {
   "cell_type": "markdown",
   "id": "37c5f731",
   "metadata": {},
   "source": [
    "# Wrangling the Dataset \n",
    "# -----------------------------------------------------------\n",
    "\n",
    "# Top 200 songs of 2021 in the US market\n",
    "\n",
    "Create a function to make the Top 200 songs of 2021 in the US market Dataframe given by the number of streams"
   ]
  },
  {
   "cell_type": "code",
   "execution_count": null,
   "id": "7463d1df",
   "metadata": {},
   "outputs": [],
   "source": [
    "def create_ustop200():\n",
    "    #Select the region I would like to focus on\n",
    "    us_spot_200 = spot[spot['region']=='United States'][spot['chart']=='top200']\n",
    "\n",
    "    #Convert the date column to a date from a string using datetime module\n",
    "    us_spot_200['date'] = pd.to_datetime(us_spot_200['date'],format='%Y-%m-%d')\n",
    "\n",
    "    #Adding the the song URI column Unique Identifier\n",
    "    us_spot_200['URI'] = [uri.split('track/')[1] for uri in us_spot_200['url']]\n",
    "\n",
    "    #Select a dataframe of song in 2021\n",
    "    us21_t200=us_spot_200.loc[us_spot_200['date'].dt.year==2021]\n",
    "\n",
    "    #Sort Data by number of streams to get a sense of the most popular songs\n",
    "    us21_t200=us21_t200.sort_values(by=['streams'], ascending=False)\n",
    "    return us21_t200\n",
    "\n",
    "\n",
    "\n",
    "#Store Top 200 songs of 2021 in the US market to a Dataframe\n",
    "#-----------------------------------------------------------\n",
    "us21_t200=create_ustop200()"
   ]
  },
  {
   "cell_type": "markdown",
   "id": "72188233",
   "metadata": {},
   "source": [
    "# Spotify API with spotipy\n",
    "# ------------------------------------------------------------------------"
   ]
  },
  {
   "cell_type": "markdown",
   "id": "0bdc8206",
   "metadata": {},
   "source": [
    "# Get Spotify Credentials to access the Spotify API"
   ]
  },
  {
   "cell_type": "code",
   "execution_count": null,
   "id": "1a98c40b",
   "metadata": {},
   "outputs": [],
   "source": [
    "with open(r\".\\C:\\Users\\kellyc\\Projects - Coding and Data Science\\NYCDSA Python Data Analysis Project\\Client_info.txt\") as f:\n",
    "    lines = f.readlines()\n",
    "    client_stuff = [line.replace('\\n','').split('=')[1] for line in lines]\n",
    "    f.close()\n",
    "SPOTIPY_CLIENT_ID=client_stuff[0]\n",
    "SPOTIPY_CLIENT_SECRET=client_stuff[1]"
   ]
  },
  {
   "cell_type": "markdown",
   "id": "c2bdcfd3",
   "metadata": {},
   "source": [
    "# Import Spotipy to access the Spotify API "
   ]
  },
  {
   "cell_type": "code",
   "execution_count": null,
   "id": "8206d5be",
   "metadata": {},
   "outputs": [],
   "source": [
    "from spotipy.oauth2 import SpotifyClientCredentials\n",
    "client_credentials_manager = SpotifyClientCredentials(client_id=SPOTIPY_CLIENT_ID, client_secret=SPOTIPY_CLIENT_SECRET)\n",
    "sp = spotipy.Spotify(client_credentials_manager = client_credentials_manager)"
   ]
  },
  {
   "cell_type": "markdown",
   "id": "ede12156",
   "metadata": {},
   "source": [
    "# Spotify API Code Testing\n",
    "# --------------------------------------------------------------------"
   ]
  },
  {
   "cell_type": "markdown",
   "id": "491be8f9",
   "metadata": {},
   "source": [
    "# Create a test dataframe to interact with the Spotify API"
   ]
  },
  {
   "cell_type": "code",
   "execution_count": null,
   "id": "665bfbc5",
   "metadata": {},
   "outputs": [],
   "source": [
    "test = us21_t200.groupby('URI').agg('max').sort_values('streams', ascending=False)[['title','date','artist','streams']].reset_index()"
   ]
  },
  {
   "cell_type": "markdown",
   "id": "d547e893",
   "metadata": {},
   "source": [
    "# Testing the code to get features and the coresponding genre from the Spotify."
   ]
  },
  {
   "cell_type": "code",
   "execution_count": null,
   "id": "eaa9cfdd",
   "metadata": {},
   "outputs": [],
   "source": [
    "#Find the audio features using the song url\n",
    "song_features=sp.audio_features(test['URI'].iloc[3])\n",
    "print(song_features[0])\n",
    "print(type(song_features[0]))\n",
    "\n",
    "#Find the artist and popularity feature using the song url \n",
    "song=sp.track(test['URI'].iloc[0])\n",
    "art_id = song['album']['artists'][0]['external_urls']['spotify']\n",
    "print(art_id)\n",
    "print(f\"This is the popluraity {song['popularity']}\")\n",
    "\n",
    "\n",
    "#Find the genre based on the artist\n",
    "type(sp.artist(art_id)['genres'])\n"
   ]
  },
  {
   "cell_type": "markdown",
   "id": "bfe36474",
   "metadata": {},
   "source": [
    "# Time test of genre for loop"
   ]
  },
  {
   "cell_type": "code",
   "execution_count": null,
   "id": "dafde401",
   "metadata": {},
   "outputs": [],
   "source": [
    "#Time test to see how long it would take to get the genres from 3 tracks\n",
    "\"\"\" \n",
    "start = time.time()\n",
    "genre={}\n",
    "for uri in test['URI'][:3]:\n",
    "    art_id = sp.track(uri)['album']['artists'][0]['external_urls']['spotify']\n",
    "    genre[uri]=sp.artist(art_id)['genres']\n",
    "print(time.time()-start)\"\"\""
   ]
  },
  {
   "cell_type": "markdown",
   "id": "394e97fa",
   "metadata": {},
   "source": [
    "# GENRE\n",
    "# --------------------------------------------------------------------"
   ]
  },
  {
   "cell_type": "code",
   "execution_count": null,
   "id": "62a3be82",
   "metadata": {},
   "outputs": [],
   "source": [
    "#Function gets Genre data from the Spotify API ONLY RUN ONCE \n",
    "def collect_genre(df):\n",
    "    genre={}\n",
    "    for uri in df['URI']:\n",
    "        art_id = sp.track(uri)['album']['artists'][0]['external_urls']['spotify']\n",
    "        genre[uri]=sp.artist(art_id)['genres']\n",
    "    return genre\n",
    "\n",
    "#Store genres dictionary\n",
    "gen_dct = collect_genre(test)"
   ]
  },
  {
   "cell_type": "markdown",
   "id": "24e86179",
   "metadata": {},
   "source": [
    "# Original Genres"
   ]
  },
  {
   "cell_type": "code",
   "execution_count": null,
   "id": "dc0a65bc",
   "metadata": {},
   "outputs": [],
   "source": [
    "\"\"\"There was an issue with the array Lengths being different that \n",
    "I didn't understand and couldn't figure out at first so I did a little work around \n",
    "to save the dictionary object to a dataframe so I could save my genre as a csv \n",
    "from a dictionary unfortunately that made my that turn my lists into strings.\n",
    "After I changed the reamped the genres dictionary this issue was solve by the code below\"\"\"\n",
    "\n",
    "# Turn genres dictionary into a dataframe\n",
    "genres=pd.DataFrame({k:[v] for k,v in gen_dct.items()})\n",
    "o_gen = np.transpose(genres).reset_index()\n",
    "o_gen.columns=['URI','genres']\n",
    "\n",
    "#Store genres data as a csv\n",
    "o_gen.to_csv(r\"C:\\Users\\kellyc\\Projects - Coding and Data Science\\NYCDSA Python Data Analysis Project\\genre.csv\", header=['URI','genres'],index = False)"
   ]
  },
  {
   "cell_type": "markdown",
   "id": "3f1f487d",
   "metadata": {},
   "source": [
    "# Categorical Genres"
   ]
  },
  {
   "cell_type": "code",
   "execution_count": null,
   "id": "b612a79d",
   "metadata": {},
   "outputs": [],
   "source": [
    "\"\"\"The following code:\n",
    "    1. Filters the genre dictionary into a flattend key, value pair list \n",
    "    example: {'uri':[r&b, hip hop]} ---> [['uri', r&b ],['uri','hip hop']]\n",
    "    2. Creates a new expanded list of genres by filter for more common genre\n",
    "    example: ['uri','canadian hip hop']]-->['uri','hip hop']]\n",
    "    \"\"\"\n",
    "lst=[]\n",
    "for key,val in gen_dct.items():\n",
    "     for genre in val:\n",
    "        test=re.findall(r\"(pop|trap|country|hip hop|rap|adult standards|lounge|rock|r&b|edm|soul)\\s*\",genre)\n",
    "        for new in test:\n",
    "            if new in genre:\n",
    "                genre=test[0]\n",
    "        lst.append([key,genre])\n",
    "gen_re = pd.DataFrame(lst, columns=['URI','split_genres'])\n",
    "\n",
    "#Save genre.csv file\n",
    "gen_re.to_csv(r\"C:\\Users\\kellyc\\Projects - Coding and Data Science\\NYCDSA Python Data Analysis Project\\split genre.csv\", header=['URI','split_genres'],index = False)"
   ]
  },
  {
   "cell_type": "code",
   "execution_count": null,
   "id": "00b82a8d",
   "metadata": {},
   "outputs": [],
   "source": [
    "gen_re['split_genres'].value_counts()"
   ]
  },
  {
   "cell_type": "markdown",
   "id": "8f07929b",
   "metadata": {},
   "source": [
    "# Song Audio Features\n",
    "# -------------------------------------------------------------"
   ]
  },
  {
   "cell_type": "markdown",
   "id": "4e39bd71",
   "metadata": {},
   "source": [
    "### Audio Features \n",
    "Descriptions\n",
    "\n",
    "#### acousticness \n",
    "\n",
    "number \\<float>\n",
    "\n",
    "A confidence measure from 0.0 to 1.0 of whether the track is acoustic. 1.0 represents \n",
    "high confidence the track is acoustic.\n",
    "\n",
    "\\>= 0  \n",
    "\\<= 1\n",
    "\n",
    "#### analysis_url string\n",
    "A URL to access the full audio analysis of this track. An access token is required to access this data.\n",
    "\n",
    "#### danceability\n",
    "\n",
    "number \\<float>\n",
    "\n",
    "Danceability describes how suitable a track is for dancing based on a combination of musical \n",
    "elements including tempo, rhythm stability, beat strength, and overall regularity. \n",
    "A value of 0.0 is least danceable and 1.0 is most danceable.\n",
    "\n",
    "#### duration_ms\n",
    "integer\n",
    "The duration of the track in milliseconds.\n",
    "\n",
    "#### energy \n",
    "\n",
    "number \\<float>\n",
    "\n",
    "Energy is a measure from 0.0 to 1.0 and represents a perceptual measure of intensity and activity. \n",
    "Typically, energetic tracks feel fast, loud, and noisy. For example, death metal has high energy, \n",
    "while a Bach prelude scores low on the scale. Perceptual features contributing to this attribute include dynamic range, \n",
    "perceived loudness, timbre, onset rate, and general entropy.\n",
    "\n",
    "#### id\n",
    "string\n",
    "The Spotify ID for the track.\n",
    "\n",
    "#### instrumentalness\n",
    "\n",
    "number \\<float>\n",
    "\n",
    "Predicts whether a track contains no vocals. \n",
    "\"Ooh\" and \"aah\" sounds are treated as instrumental in this context. \n",
    "Rap or spoken word tracks are clearly \"vocal\". \n",
    "The closer the instrumentalness value is to 1.0, the greater likelihood the track contains no vocal content. \n",
    "Values above 0.5 are intended to represent instrumental tracks, but confidence is higher as the value approaches 1.0.\n",
    "\n",
    "#### key\n",
    "\n",
    "integer\n",
    "\n",
    "The key the track is in. Integers map to pitches using standard Pitch Class notation. \n",
    "E.g. 0 = C, 1 = C♯/D♭, 2 = D, and so on. If no key was detected, the value is -1.\n",
    "\\>= -1 <= 11\n",
    "\n",
    "#### liveness \n",
    "\n",
    "number \\<float>\n",
    "\n",
    "Detects the presence of an audience in the recording. \n",
    "Higher liveness values represent an increased probability that the track was performed live. \n",
    "A value above 0.8 provides strong likelihood that the track is live.\n",
    "\n",
    "#### loudness\n",
    "\n",
    "number \\<float>\n",
    "\n",
    "The overall loudness of a track in decibels (dB). \n",
    "Loudness values are averaged across the entire track and are useful for comparing relative loudness of tracks. \n",
    "Loudness is the quality of a sound that is the primary psychological correlate of physical strength (amplitude). \n",
    "Values typically range between -60 and 0 db.\n",
    "\n",
    "#### mode\n",
    "\n",
    "integer\n",
    "\n",
    "Mode indicates the modality (major or minor) of a track, the type of scale from which its melodic content is derived. \n",
    "Major is represented by 1 and minor is 0.\n",
    "\n",
    "#### speechiness\n",
    "\n",
    "number \\<float>\n",
    "\n",
    "Speechiness detects the presence of spoken words in a track. \n",
    "The more exclusively speech-like the recording (e.g. talk show, audio book, poetry), the closer to 1.0 the attribute value. Values above 0.66 describe tracks that are probably made entirely of spoken words. Values between 0.33 and 0.66 describe tracks that may contain both music and speech, either in sections or layered, including such cases as rap music. Values below 0.33 most likely represent music and other non-speech-like tracks.\n",
    "\n",
    "#### tempo\n",
    "\n",
    "number \\<float>\n",
    "\n",
    "The overall estimated tempo of a track in beats per minute (BPM). \n",
    "In musical terminology, tempo is the speed or pace of a given piece and derives directly from the average beat duration.\n",
    "\n",
    "#### time_signature\n",
    "\n",
    "integer\n",
    "\n",
    "An estimated time signature. \n",
    "\n",
    "The time signature (meter) is a notational convention to specify how many beats are in each bar (or measure).\n",
    "The time signature ranges from 3 to 7 indicating time signatures of \"3/4\", to \"7/4\".\n",
    "\n",
    "\\>= 3\n",
    "\\<= 7\n",
    "\n",
    "#### track_href\n",
    "\n",
    "string\n",
    "\n",
    "A link to the Web API endpoint providing full details of the track.\n",
    "\n",
    "#### type\n",
    "\n",
    "string\n",
    "\n",
    "The object type.\n",
    "\n",
    "#### uri\n",
    "\n",
    "string\n",
    "\n",
    "The Spotify URI for the track.\n",
    "\n",
    "#### valence\n",
    "\n",
    "number \\<float>\n",
    "\n",
    "A measure from 0.0 to 1.0 describing the musical positiveness conveyed by a track. \n",
    "Tracks with high valence sound more positive (e.g. happy, cheerful, euphoric), \n",
    "while tracks with low valence sound more negative (e.g. sad, depressed, angry).\n",
    "\n",
    "\\>= 0\n",
    "\\<= 1"
   ]
  },
  {
   "cell_type": "markdown",
   "id": "cffcde5f",
   "metadata": {},
   "source": [
    "# Create a for loop to get the features for each song"
   ]
  },
  {
   "cell_type": "code",
   "execution_count": null,
   "id": "be424178",
   "metadata": {},
   "outputs": [],
   "source": [
    "#Function gets genre data from the Spotify API ONLY RUN ONCE\n",
    "def collect_feature(df):\n",
    "    start = time.time()\n",
    "    #Create of features dataframe\n",
    "    features=pd.DataFrame()\n",
    "\n",
    "    #For loop to get the features for each uri\n",
    "    for uri in df['URI']:\n",
    "\n",
    "         #Get the track features from Spotify API\n",
    "        song_features=sp.audio_features(uri)\n",
    "        song=sp.track(uri)\n",
    "        if song_features[0] == None:\n",
    "            pass\n",
    "        else:\n",
    "            df=song_features\n",
    "            df[0]['popularity']=song['popularity']\n",
    "            features=pd.concat([pd.DataFrame(df),features])\n",
    "   \n",
    "    # Normalize popularity\n",
    "    features[\"popularity\"] = features[\"popularity\"] / 100.\n",
    "    \n",
    "    #Convert duration to mins instead of milliseconds for ease of understanding.\n",
    "    features[\"duration_min\"]=features[\"duration_ms\"]/60000.\n",
    "    \n",
    "    # Normalize tempo from range tempo min to tempo max ====> min-->0.0 and max--->1.0 float\n",
    "    features[\"tempo_norm\"] = (features[\"tempo\"]-features[\"tempo\"].min()) / (features[\"tempo\"].max()-features[\"tempo\"].min())\n",
    "    \n",
    "    # Convert time_signature and key to category\n",
    "    features[\"time_signature\"] = features[\"time_signature\"].astype(pd.api.types.CategoricalDtype(categories=[1, 2, 3, 4, 5]))\n",
    "    features[\"key\"] = features[\"key\"].astype(pd.api.types.CategoricalDtype(categories=[0, 1, 2, 3, 4, 5, 6, 7, 8, 9, 10, 11]))\n",
    "    features[\"mode\"] = features[\"mode\"].astype(pd.api.types.CategoricalDtype(categories=[0, 1]))\n",
    "    \n",
    "    \n",
    "  \n",
    "    \n",
    "    #Save as song_features.csv\n",
    "    features.to_csv(r\"C:\\Users\\kellyc\\Projects - Coding and Data Science\\NYCDSA Python Data Analysis Project\\song_features.csv\")\n",
    "    print(time.time()-start)"
   ]
  },
  {
   "cell_type": "code",
   "execution_count": null,
   "id": "83500383",
   "metadata": {},
   "outputs": [],
   "source": [
    "features=collect_feature(test)"
   ]
  },
  {
   "cell_type": "markdown",
   "id": "785b061e",
   "metadata": {},
   "source": [
    "# -------------------------------------------------------------------------\n",
    "# Data Exploration\n",
    "# -------------------------------------------------------------------------"
   ]
  },
  {
   "cell_type": "markdown",
   "id": "d3d850cc",
   "metadata": {},
   "source": [
    "# Load genre, features, and split genre data sets."
   ]
  },
  {
   "cell_type": "code",
   "execution_count": null,
   "id": "e9a506e9",
   "metadata": {},
   "outputs": [],
   "source": [
    "#Load the Spotify API song Data stored as a csv file.\n",
    "song_genre = pd.read_csv(r\"C:\\Users\\kellyc\\Projects - Coding and Data Science\\NYCDSA Python Data Analysis Project\\genre.csv\",encoding='iso-8859-1')\n",
    "song_features = pd.read_csv(r\"C:\\Users\\kellyc\\Projects - Coding and Data Science\\NYCDSA Python Data Analysis Project\\song_features.csv\",encoding='iso-8859-1')\n",
    "split_genre = pd.read_csv(r\"C:\\Users\\kellyc\\Projects - Coding and Data Science\\NYCDSA Python Data Analysis Project\\split genre.csv\",encoding='iso-8859-1')\n",
    "\n",
    "#Update that URI column in the features today to prepare for merging\n",
    "song_features['uri']=[uri.replace('spotify:track:','')for uri in song_features['uri']]\n"
   ]
  },
  {
   "cell_type": "markdown",
   "id": "bde864d6",
   "metadata": {},
   "source": [
    "# ------------------------------------------------------------------------\n",
    "# Create Working Dataset \n",
    "# ------------------------------------------------------------------------"
   ]
  },
  {
   "cell_type": "markdown",
   "id": "0963316c",
   "metadata": {},
   "source": [
    "## Create master dataframe with genre, features, and aritist group by unique songs."
   ]
  },
  {
   "cell_type": "code",
   "execution_count": null,
   "id": "425b4333",
   "metadata": {},
   "outputs": [],
   "source": [
    "max_day_genre= us21_t200.groupby('URI').agg('max').sort_values('streams', ascending=False)[['title','date','artist','streams']].merge(song_genre, on='URI')\n",
    "max_feat_day_genre= max_day_genre.merge(song_features, left_on='URI', right_on='id').drop([\"Unnamed: 0\", 'type',\n",
    " 'id',\n",
    " 'uri',\n",
    " 'track_href',\n",
    " 'analysis_url','tempo','duration_ms'],axis=1)\n",
    "\n",
    "#Data cleaning\n",
    "\"\"\"\"\"\"\n",
    "\n",
    "#Store Master data set grouped by song with features, genres, and streams.\n",
    "max_feat_day_genre.to_csv(r\"C:\\Users\\kellyc\\Projects - Coding and Data Science\\NYCDSA Python Data Analysis Project\\master data set.csv\",index = False)\n",
    "\n",
    "#Load Master Dataset \n",
    "master_song_df = pd.read_csv(r\"C:\\Users\\kellyc\\Projects - Coding and Data Science\\NYCDSA Python Data Analysis Project\\master data set.csv\",encoding='iso-8859-1')\n",
    "\n",
    "#Convert Date into datetime format.\n",
    "master_song_df['date'] = pd.to_datetime(master_song_df['date'],format='%Y-%m-%d')"
   ]
  },
  {
   "cell_type": "markdown",
   "id": "e051f8c5",
   "metadata": {},
   "source": [
    "## Create and save the complete categorical genre dataset"
   ]
  },
  {
   "cell_type": "code",
   "execution_count": null,
   "id": "0156839d",
   "metadata": {},
   "outputs": [],
   "source": [
    "#Store categorical genre dataframe as a csv\n",
    "c_g = master_song_df.merge(split_genre, on='URI')\n",
    "c_g.to_csv(r\"C:\\Users\\kellyc\\Projects - Coding and Data Science\\NYCDSA Python Data Analysis Project\\categorical genre.csv\",index = False)\n",
    "\n",
    "#Load categorical genre Dataset \n",
    "categorical_genre  = pd.read_csv(r\"C:\\Users\\kellyc\\Projects - Coding and Data Science\\NYCDSA Python Data Analysis Project\\categorical genre.csv\",encoding='iso-8859-1')"
   ]
  },
  {
   "cell_type": "markdown",
   "id": "c5b2f70e",
   "metadata": {},
   "source": [
    "## Create 2021 cummulative streams by song data."
   ]
  },
  {
   "cell_type": "code",
   "execution_count": null,
   "id": "46eeb6ca",
   "metadata": {},
   "outputs": [],
   "source": [
    "#Find the total number of streams for 2021 of each song on the Top 200 Hits Chart\n",
    "tc2021 = us21_t200.groupby('URI')[['streams','URI']].sum('streams').reset_index().sort_values('streams', ascending=False).merge(master_song_df.drop(['streams'], axis=1), on= 'URI')\n",
    "\n",
    "#Store cummulative genre dataframe as a csv\n",
    "tc2021.to_csv(r\"cummulative_streams.csv\",index=False)\n",
    "\n",
    "#Load categorical genre Dataset \n",
    "total_streams_2021  = pd.read_csv(r\"C:\\Users\\kellyc\\Projects - Coding and Data Science\\NYCDSA Python Data Analysis Project\\cummulative_streams.csv\",encoding='iso-8859-1')"
   ]
  },
  {
   "cell_type": "markdown",
   "id": "13729785",
   "metadata": {},
   "source": [
    "# Data Visualization\n",
    "# ---------------------------------------------------------------"
   ]
  },
  {
   "cell_type": "markdown",
   "id": "3c5e6662",
   "metadata": {},
   "source": [
    "# Top 10's "
   ]
  },
  {
   "cell_type": "code",
   "execution_count": null,
   "id": "fc1135ce",
   "metadata": {
    "scrolled": true
   },
   "outputs": [],
   "source": [
    "d=total_streams_2021[['URI','streams','artist','title']].groupby('artist').max().sort_values('streams',ascending=False).reset_index().head(10)\n",
    "fig = px.bar(d, y='streams', x='artist',text ='streams', hover_data=['streams'], color='streams',labels={'artist':'Artist','streams':'Total Stream for 2021'}, orientation = 'v',title='Top 10 Streaming Artists on Spotify in 2021')\n",
    "fig.show()"
   ]
  },
  {
   "cell_type": "code",
   "execution_count": null,
   "id": "2a44b750",
   "metadata": {
    "scrolled": true
   },
   "outputs": [],
   "source": [
    "top_10_songs=total_streams_2021[['URI','streams','artist','title']].groupby('URI').max().sort_values('streams',ascending=False).reset_index().head(10)\n",
    "fig = px.bar(top_10_songs, x='streams', y='title',text ='artist', hover_data=['streams'],color = 'streams',labels={'title':'Song Titles','streams':'Total Stream for 2021'}, \n",
    "             height=400, orientation = 'h',title='Top 10 Streaming Songs on Spotify in 2021')\n",
    "fig.show()"
   ]
  },
  {
   "cell_type": "code",
   "execution_count": null,
   "id": "93f22ae1",
   "metadata": {
    "scrolled": false
   },
   "outputs": [],
   "source": [
    "master_song_df['artist'].value_counts().head(10).plot.barh(color='green')\n",
    "\n",
    "plt.xlabel('Number of Appearences')\n",
    "plt.title('Top 10 Appreances by artist on the Daily Hits Charts 2021')"
   ]
  },
  {
   "cell_type": "markdown",
   "id": "7985b4fa",
   "metadata": {},
   "source": [
    "## Top 10 Genres streamed on Daily Hits 2021"
   ]
  },
  {
   "cell_type": "code",
   "execution_count": null,
   "id": "62021f99",
   "metadata": {},
   "outputs": [],
   "source": [
    "d=categorical_genre[['split_genres']].value_counts().reset_index().head(10)\n",
    "d.columns=['Genres','G_count']\n",
    "plt.figure(figsize = (12,6))\n",
    "d.groupby('Genres')['G_count'].median().sort_values(ascending = False).plot.bar(color = 'blue')\n",
    "plt.ylabel('Number of Songs')\n",
    "plt.title('Number of Songs vs Genre')"
   ]
  },
  {
   "cell_type": "markdown",
   "id": "bcc2703e",
   "metadata": {},
   "source": [
    "# -------------------------------------------------------------------------------\n",
    "# Total Monthly Streams "
   ]
  },
  {
   "cell_type": "code",
   "execution_count": null,
   "id": "b19e7606",
   "metadata": {},
   "outputs": [],
   "source": [
    "us21_t200['month'] = pd.DatetimeIndex(us21_t200['date']).month_name()\n",
    "df=us21_t200[['URI','streams','artist','title','month']].groupby([us21_t200['date'].dt.month,'month']).sum().reset_index()\n",
    "fig = px.bar(df, y='streams', x='month', color=\"month\",text ='streams',\n",
    "             labels={'title':'Song Titles','streams':'Total Monthly Streams for 2021','month':\"Months\"},\n",
    "             height=400, title='Total Monthly Streams for 2021')\n",
    "fig.show()"
   ]
  },
  {
   "cell_type": "code",
   "execution_count": null,
   "id": "e5f48f22",
   "metadata": {},
   "outputs": [],
   "source": [
    "\n",
    "audio_feat_gerne_weighted = categorical_genre[['split_genres','streams']].groupby(['split_genres']).agg('sum').sort_values(['streams'],ascending=False).reset_index().head(10)\n",
    "\n",
    "fig=sns.catplot(x='streams' ,y=\"split_genres\", kind=\"bar\",\n",
    "            palette=\"pastel\", edgecolor=\".6\",\n",
    "            data=audio_feat_gerne_weighted)"
   ]
  },
  {
   "cell_type": "markdown",
   "id": "7e785d6c",
   "metadata": {},
   "source": [
    "# Sub Genre Exploration\n",
    "# ---------------------------------"
   ]
  },
  {
   "cell_type": "code",
   "execution_count": null,
   "id": "2fd7e933",
   "metadata": {
    "scrolled": true
   },
   "outputs": [],
   "source": [
    "df =categorical_genre.loc[categorical_genre['split_genres']=='pop'].groupby('genres').agg('sum').sort_values('streams',ascending=False).head(10).reset_index()\n",
    "fig=px.histogram(df, x='streams', y='genres', hover_data=['genres'],color = 'streams', \n",
    "             height=400,title='Top 10 Pop Genres in 2021')\n",
    "fig.update_xaxes(title_text=\"Number of Streams\")\n",
    "fig.update_yaxes(title_text=\"Sub-Genres\")"
   ]
  },
  {
   "cell_type": "code",
   "execution_count": null,
   "id": "2077f53a",
   "metadata": {},
   "outputs": [],
   "source": [
    "df =categorical_genre.loc[categorical_genre['split_genres']=='rap'].groupby('genres').agg(sum).sort_values('streams',ascending=False).head(10).reset_index()\n",
    "fig=px.histogram(df, x='streams', y='genres', hover_data=['genres'],\n",
    "             height=400, orientation = 'h',title='Top 10 Rap Genres in 2021')\n",
    "fig.update_xaxes(title_text=\"Number of Streams\")\n",
    "fig.update_yaxes(title_text=\"Sub-Genres\")"
   ]
  },
  {
   "cell_type": "code",
   "execution_count": null,
   "id": "134e06b6",
   "metadata": {},
   "outputs": [],
   "source": [
    "df =categorical_genre.loc[categorical_genre['split_genres']=='hip hop'].groupby('genres').agg('sum').sort_values('streams',ascending=False).head(10).reset_index()\n",
    "fig=px.histogram(df, x='streams', y='genres', hover_data=['genres'],color = 'streams', \n",
    "             height=400, orientation = 'h',title='Top 10 Hip Hop Genres in 2021')\n",
    "fig.update_xaxes(title_text=\"Number of Streams\")\n",
    "fig.update_yaxes(title_text=\"Sub-Genres\")"
   ]
  },
  {
   "cell_type": "markdown",
   "id": "de770c04",
   "metadata": {},
   "source": [
    "# -----------------------------------------------------------------------------\n",
    "# Exploratory Data Analysis\n",
    "# -----------------------------------------------------------------------------"
   ]
  },
  {
   "cell_type": "markdown",
   "id": "282273a3",
   "metadata": {},
   "source": [
    "#  Streams vs Popularity"
   ]
  },
  {
   "cell_type": "code",
   "execution_count": null,
   "id": "f0e69372",
   "metadata": {},
   "outputs": [],
   "source": [
    "sns.jointplot(y=categorical_genre['popularity'],x=categorical_genre['streams'],alpha=.09, color='b')\n",
    "plt.suptitle('Streams vs Popularity')"
   ]
  },
  {
   "cell_type": "markdown",
   "id": "8fd982ed",
   "metadata": {},
   "source": [
    "# Triangular Heatmap of all Audio Features including Popularity"
   ]
  },
  {
   "cell_type": "code",
   "execution_count": null,
   "id": "fd8e7cca",
   "metadata": {},
   "outputs": [],
   "source": [
    "# Correlation Matrix Heatmap by song for the 2248 uniques songs on each of the Top 200 daily hits list in 2021\n",
    "f, ax = plt.subplots(figsize=(14, 10))\n",
    "corr = master_song_df.groupby('URI').max().sort_values('streams',ascending=False).head(20).corr()\n",
    "\n",
    "# Generate a mask for the upper triangle\n",
    "mask = np.triu(np.ones_like(corr, dtype=bool))\n",
    "\n",
    "hm = sns.heatmap(round(corr,2),mask=mask, annot=True, ax=ax, cmap=\"coolwarm\",fmt='.2f',\n",
    "                 linewidths=.05)\n",
    "f.subplots_adjust(top=1)\n",
    "t= f.suptitle('Audio features Correlation Heatmap Top 200 Daily Hits Chart List of Uniques songs', fontsize=14)"
   ]
  },
  {
   "cell_type": "code",
   "execution_count": null,
   "id": "de487b95",
   "metadata": {},
   "outputs": [],
   "source": [
    "# Correlation Matrix Heatmap by song for the 2248 uniques songs on each of the Top 200 daily hits list in 2021\n",
    "f, ax = plt.subplots(figsize=(14, 10))\n",
    "corr = total_streams_2021.groupby('URI').max().sort_values('streams',ascending=False).head(20).corr()\n",
    "\n",
    "# Generate a mask for the upper triangle\n",
    "mask = np.triu(np.ones_like(corr, dtype=bool))\n",
    "\n",
    "hm = sns.heatmap(round(corr,2),mask=mask, annot=True, ax=ax, cmap=\"coolwarm\",fmt='.2f',\n",
    "                 linewidths=.05)\n",
    "f.subplots_adjust(top=1)\n",
    "t= f.suptitle('Audio features Correlation Heatmap Top 200 Daily Hits Chart List of Uniques songs', fontsize=14)"
   ]
  },
  {
   "cell_type": "code",
   "execution_count": null,
   "id": "d8d92cca",
   "metadata": {},
   "outputs": [],
   "source": [
    "# Correlation Matrix Heatmap by Rap Songs\n",
    "f, ax = plt.subplots(figsize=(14, 10))\n",
    "corr = categorical_genre.loc[categorical_genre['split_genres']=='rap'].sort_values('streams',ascending=False).head(50).corr()\n",
    "\n",
    "# Generate a mask for the upper triangle\n",
    "\n",
    "mask = np.triu(np.ones_like(corr, dtype=bool))\n",
    "\n",
    "hm = sns.heatmap(round(corr,2),mask=mask, annot=True, ax=ax, cmap=\"coolwarm\",fmt='.2f',\n",
    "                 linewidths=.05)\n",
    "f.subplots_adjust(top=1)\n",
    "t= f.suptitle('Audio features Correlation Heatmap Rap Genre in 2021', fontsize=2)"
   ]
  },
  {
   "cell_type": "code",
   "execution_count": null,
   "id": "d99e5d35",
   "metadata": {},
   "outputs": [],
   "source": [
    "# Correlation Matrix Heatmap by Pop Songs\n",
    "f, ax = plt.subplots(figsize=(14, 10))\n",
    "corr = categorical_genre.loc[categorical_genre['split_genres']=='pop'].sort_values('streams',ascending=False).head(50).corr()\n",
    "\n",
    "# Generate a mask for the upper triangle\n",
    "mask = np.triu(np.ones_like(corr, dtype=bool))\n",
    "\n",
    "hm = sns.heatmap(round(corr,2),mask=mask, annot=True, ax=ax, cmap=\"coolwarm\",fmt='.2f',\n",
    "                 linewidths=.05)\n",
    "f.subplots_adjust(top=1)\n",
    "t= f.suptitle('Audio features Correlation Heatmap Pop Genre in 2021', fontsize=2)"
   ]
  },
  {
   "cell_type": "code",
   "execution_count": null,
   "id": "4791ce91",
   "metadata": {},
   "outputs": [],
   "source": [
    "# Correlation Matrix Heatmap by Rap Songs\n",
    "f, ax = plt.subplots(figsize=(14, 10))\n",
    "corr = categorical_genre.loc[categorical_genre['split_genres']=='hip hop'].sort_values('streams',ascending=False).head(50).corr()\n",
    "\n",
    "# Generate a mask for the upper triangle\n",
    "mask = np.triu(np.ones_like(corr, dtype=bool))\n",
    "\n",
    "hm = sns.heatmap(round(corr,2),mask=mask, annot=True, ax=ax, cmap=\"coolwarm\",fmt='.2f',\n",
    "                 linewidths=.05)\n",
    "f.subplots_adjust(top=1)\n",
    "t= f.suptitle('Audio features Correlation Heatmap Hip Hop Genre in 2021', fontsize=2)"
   ]
  },
  {
   "cell_type": "code",
   "execution_count": null,
   "id": "297d6100",
   "metadata": {},
   "outputs": [],
   "source": [
    "# Correlation Matrix Heatmap by song \n",
    "f, ax = plt.subplots(figsize=(14, 10))\n",
    "corr = total_streams_2021.sort_values('streams',ascending=False).head(20).corr()\n",
    "\n",
    "# Generate a mask for the upper triangle\n",
    "mask = np.triu(np.ones_like(corr, dtype=bool))\n",
    "\n",
    "hm = sns.heatmap(round(corr,2),mask=mask, annot=True, ax=ax, cmap=\"coolwarm\",fmt='.2f',\n",
    "                 linewidths=.05)\n",
    "f.subplots_adjust(top=1)\n",
    "t= f.suptitle('Audio features Correlation Heatmap for Top 20 Most Streamed Songs in 2021', fontsize=14)"
   ]
  },
  {
   "cell_type": "markdown",
   "id": "e880c8cc",
   "metadata": {},
   "source": [
    "# ------------------------------------------------------------------------------\n",
    "# Contour Maps of Two Features\n",
    "# ------------------------------------------------------------------------------"
   ]
  },
  {
   "cell_type": "code",
   "execution_count": null,
   "id": "39a3efe5",
   "metadata": {
    "scrolled": true
   },
   "outputs": [],
   "source": [
    "fig = px.density_contour(master_song_df, x='liveness', y=\"streams\", marginal_x=\"histogram\", marginal_y=\"histogram\")\n",
    "fig.update_xaxes(title_text=\"liveness\")\n",
    "fig.update_yaxes(title_text=\"streams\")\n",
    "fig.show()"
   ]
  },
  {
   "cell_type": "code",
   "execution_count": null,
   "id": "65076ed5",
   "metadata": {},
   "outputs": [],
   "source": [
    "\n",
    "fig = go.Figure(go.Histogram2dContour(\n",
    "        x = master_song_df['streams'],\n",
    "        y = master_song_df[\"danceability\"],\n",
    "        colorscale = 'Blues')\n",
    ",layout_title_text=\"Danceability vs Streams\")\n",
    "fig.update_xaxes(title_text=\"Streams\")\n",
    "fig.update_yaxes(title_text=\"Danceability\")"
   ]
  },
  {
   "cell_type": "code",
   "execution_count": null,
   "id": "dfcde579",
   "metadata": {},
   "outputs": [],
   "source": [
    "fig = go.Figure(go.Histogram2dContour(\n",
    "        x = master_song_df['streams'],\n",
    "        y = master_song_df[\"danceability\"],\n",
    "        colorscale = 'Reds',\n",
    ")\n",
    ",layout_title_text=\"Danceability vs Streams\")\n",
    "fig.update_xaxes(title_text=\"Streams\")\n",
    "fig.update_yaxes(title_text=\"Danceability\")\n",
    "\n",
    "                                    "
   ]
  },
  {
   "cell_type": "code",
   "execution_count": null,
   "id": "112a8237",
   "metadata": {},
   "outputs": [],
   "source": [
    "fig = go.Figure(go.Histogram2dContour(\n",
    "        x = master_song_df['streams'],\n",
    "        y = master_song_df[\"danceability\"],\n",
    "        colorscale = 'Greens'\n",
    ")\n",
    ",layout_title_text=\"Danceability vs Streams\")\n",
    "fig.update_xaxes(title_text=\"Streams\")\n",
    "fig.update_yaxes(title_text=\"Danceability\")"
   ]
  },
  {
   "cell_type": "code",
   "execution_count": null,
   "id": "cb6bfa99",
   "metadata": {},
   "outputs": [],
   "source": [
    "categorical_genre.columns"
   ]
  },
  {
   "cell_type": "code",
   "execution_count": null,
   "id": "2967bee2",
   "metadata": {
    "scrolled": true
   },
   "outputs": [],
   "source": [
    "g = sns.PairGrid(master_song_df[['streams', 'danceability',\n",
    "       'energy', 'key', 'loudness','speechiness', 'acousticness',\n",
    "       'instrumentalness', 'liveness', 'valence', 'tempo_norm',\n",
    "       'time_signature', 'popularity']].head(200))\n",
    "g.map(sns.scatterplot)"
   ]
  }
 ],
 "metadata": {
  "kernelspec": {
   "display_name": "Python 3 (ipykernel)",
   "language": "python",
   "name": "python3"
  },
  "language_info": {
   "codemirror_mode": {
    "name": "ipython",
    "version": 3
   },
   "file_extension": ".py",
   "mimetype": "text/x-python",
   "name": "python",
   "nbconvert_exporter": "python",
   "pygments_lexer": "ipython3",
   "version": "3.9.7"
  }
 },
 "nbformat": 4,
 "nbformat_minor": 5
}
